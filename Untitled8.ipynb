{
 "cells": [
  {
   "cell_type": "code",
   "execution_count": 26,
   "id": "2bad959b-16fa-4031-b615-f56ba4bdd0b5",
   "metadata": {},
   "outputs": [
    {
     "name": "stdout",
     "output_type": "stream",
     "text": [
      "Model trained. R^2 score on test data: 1.0\n"
     ]
    }
   ],
   "source": [
    "import pandas as pd\n",
    "from sklearn.model_selection import train_test_split\n",
    "from sklearn.linear_model import LinearRegression\n",
    "from sklearn.preprocessing import LabelEncoder\n",
    "import joblib\n",
    "\n",
    "# Load data from CSV\n",
    "df = pd.read_csv(\"budget_data.csv\")\n",
    "\n",
    "# Initialize LabelEncoder for department and area\n",
    "label_encoder_department = LabelEncoder()\n",
    "label_encoder_area = LabelEncoder()\n",
    "\n",
    "# Encode department and area columns\n",
    "df['department_encoded'] = label_encoder_department.fit_transform(df['department'])\n",
    "df['area_encoded'] = label_encoder_area.fit_transform(df['area'])\n",
    "\n",
    "# Features (independent variables)\n",
    "X = df[['department_encoded', 'area_encoded', 'total_budget', 'used_budget']]\n",
    "\n",
    "# Target (dependent variable)\n",
    "y = df['remaining_budget']\n",
    "\n",
    "# Split data into training and testing sets\n",
    "X_train, X_test, y_train, y_test = train_test_split(X, y, test_size=0.2, random_state=42)\n",
    "\n",
    "# Train the model\n",
    "model = LinearRegression()\n",
    "model.fit(X_train, y_train)\n",
    "\n",
    "# Save the trained model and label encoders\n",
    "joblib.dump(model, \"budget_predictor_model.pkl\")\n",
    "joblib.dump(label_encoder_department, \"label_encoder_department.pkl\")\n",
    "joblib.dump(label_encoder_area, \"label_encoder_area.pkl\")\n",
    "\n",
    "# Evaluate the model\n",
    "print(f\"Model trained. R^2 score on test data: {model.score(X_test, y_test)}\")\n"
   ]
  },
  {
   "cell_type": "code",
   "execution_count": 27,
   "id": "4a30548f-6e34-40e3-a378-e847fa5b2691",
   "metadata": {},
   "outputs": [
    {
     "ename": "ValueError",
     "evalue": "y contains previously unseen labels: 'Sanitation Department'",
     "output_type": "error",
     "traceback": [
      "\u001b[1;31m---------------------------------------------------------------------------\u001b[0m",
      "\u001b[1;31mKeyError\u001b[0m                                  Traceback (most recent call last)",
      "File \u001b[1;32m~\\AppData\\Local\\Programs\\Python\\Python310\\lib\\site-packages\\sklearn\\utils\\_encode.py:235\u001b[0m, in \u001b[0;36m_encode\u001b[1;34m(values, uniques, check_unknown)\u001b[0m\n\u001b[0;32m    234\u001b[0m \u001b[38;5;28;01mtry\u001b[39;00m:\n\u001b[1;32m--> 235\u001b[0m     \u001b[38;5;28;01mreturn\u001b[39;00m \u001b[43m_map_to_integer\u001b[49m\u001b[43m(\u001b[49m\u001b[43mvalues\u001b[49m\u001b[43m,\u001b[49m\u001b[43m \u001b[49m\u001b[43muniques\u001b[49m\u001b[43m)\u001b[49m\n\u001b[0;32m    236\u001b[0m \u001b[38;5;28;01mexcept\u001b[39;00m \u001b[38;5;167;01mKeyError\u001b[39;00m \u001b[38;5;28;01mas\u001b[39;00m e:\n",
      "File \u001b[1;32m~\\AppData\\Local\\Programs\\Python\\Python310\\lib\\site-packages\\sklearn\\utils\\_encode.py:174\u001b[0m, in \u001b[0;36m_map_to_integer\u001b[1;34m(values, uniques)\u001b[0m\n\u001b[0;32m    173\u001b[0m table \u001b[38;5;241m=\u001b[39m _nandict({val: i \u001b[38;5;28;01mfor\u001b[39;00m i, val \u001b[38;5;129;01min\u001b[39;00m \u001b[38;5;28menumerate\u001b[39m(uniques)})\n\u001b[1;32m--> 174\u001b[0m \u001b[38;5;28;01mreturn\u001b[39;00m xp\u001b[38;5;241m.\u001b[39masarray([table[v] \u001b[38;5;28;01mfor\u001b[39;00m v \u001b[38;5;129;01min\u001b[39;00m values], device\u001b[38;5;241m=\u001b[39mdevice(values))\n",
      "File \u001b[1;32m~\\AppData\\Local\\Programs\\Python\\Python310\\lib\\site-packages\\sklearn\\utils\\_encode.py:174\u001b[0m, in \u001b[0;36m<listcomp>\u001b[1;34m(.0)\u001b[0m\n\u001b[0;32m    173\u001b[0m table \u001b[38;5;241m=\u001b[39m _nandict({val: i \u001b[38;5;28;01mfor\u001b[39;00m i, val \u001b[38;5;129;01min\u001b[39;00m \u001b[38;5;28menumerate\u001b[39m(uniques)})\n\u001b[1;32m--> 174\u001b[0m \u001b[38;5;28;01mreturn\u001b[39;00m xp\u001b[38;5;241m.\u001b[39masarray([\u001b[43mtable\u001b[49m\u001b[43m[\u001b[49m\u001b[43mv\u001b[49m\u001b[43m]\u001b[49m \u001b[38;5;28;01mfor\u001b[39;00m v \u001b[38;5;129;01min\u001b[39;00m values], device\u001b[38;5;241m=\u001b[39mdevice(values))\n",
      "File \u001b[1;32m~\\AppData\\Local\\Programs\\Python\\Python310\\lib\\site-packages\\sklearn\\utils\\_encode.py:167\u001b[0m, in \u001b[0;36m_nandict.__missing__\u001b[1;34m(self, key)\u001b[0m\n\u001b[0;32m    166\u001b[0m     \u001b[38;5;28;01mreturn\u001b[39;00m \u001b[38;5;28mself\u001b[39m\u001b[38;5;241m.\u001b[39mnan_value\n\u001b[1;32m--> 167\u001b[0m \u001b[38;5;28;01mraise\u001b[39;00m \u001b[38;5;167;01mKeyError\u001b[39;00m(key)\n",
      "\u001b[1;31mKeyError\u001b[0m: 'Sanitation Department'",
      "\nDuring handling of the above exception, another exception occurred:\n",
      "\u001b[1;31mValueError\u001b[0m                                Traceback (most recent call last)",
      "Cell \u001b[1;32mIn[27], line 13\u001b[0m\n\u001b[0;32m     10\u001b[0m used_budget \u001b[38;5;241m=\u001b[39m \u001b[38;5;241m16738\u001b[39m\n\u001b[0;32m     12\u001b[0m \u001b[38;5;66;03m# Encode the department and area\u001b[39;00m\n\u001b[1;32m---> 13\u001b[0m department_encoded \u001b[38;5;241m=\u001b[39m \u001b[43mlabel_encoder_department\u001b[49m\u001b[38;5;241;43m.\u001b[39;49m\u001b[43mtransform\u001b[49m\u001b[43m(\u001b[49m\u001b[43m[\u001b[49m\u001b[43mdepartment\u001b[49m\u001b[43m]\u001b[49m\u001b[43m)\u001b[49m[\u001b[38;5;241m0\u001b[39m]\n\u001b[0;32m     14\u001b[0m area_encoded \u001b[38;5;241m=\u001b[39m label_encoder_area\u001b[38;5;241m.\u001b[39mtransform([area])[\u001b[38;5;241m0\u001b[39m]\n\u001b[0;32m     16\u001b[0m \u001b[38;5;66;03m# Create the input feature\u001b[39;00m\n",
      "File \u001b[1;32m~\\AppData\\Local\\Programs\\Python\\Python310\\lib\\site-packages\\sklearn\\preprocessing\\_label.py:134\u001b[0m, in \u001b[0;36mLabelEncoder.transform\u001b[1;34m(self, y)\u001b[0m\n\u001b[0;32m    131\u001b[0m \u001b[38;5;28;01mif\u001b[39;00m _num_samples(y) \u001b[38;5;241m==\u001b[39m \u001b[38;5;241m0\u001b[39m:\n\u001b[0;32m    132\u001b[0m     \u001b[38;5;28;01mreturn\u001b[39;00m xp\u001b[38;5;241m.\u001b[39masarray([])\n\u001b[1;32m--> 134\u001b[0m \u001b[38;5;28;01mreturn\u001b[39;00m \u001b[43m_encode\u001b[49m\u001b[43m(\u001b[49m\u001b[43my\u001b[49m\u001b[43m,\u001b[49m\u001b[43m \u001b[49m\u001b[43muniques\u001b[49m\u001b[38;5;241;43m=\u001b[39;49m\u001b[38;5;28;43mself\u001b[39;49m\u001b[38;5;241;43m.\u001b[39;49m\u001b[43mclasses_\u001b[49m\u001b[43m)\u001b[49m\n",
      "File \u001b[1;32m~\\AppData\\Local\\Programs\\Python\\Python310\\lib\\site-packages\\sklearn\\utils\\_encode.py:237\u001b[0m, in \u001b[0;36m_encode\u001b[1;34m(values, uniques, check_unknown)\u001b[0m\n\u001b[0;32m    235\u001b[0m         \u001b[38;5;28;01mreturn\u001b[39;00m _map_to_integer(values, uniques)\n\u001b[0;32m    236\u001b[0m     \u001b[38;5;28;01mexcept\u001b[39;00m \u001b[38;5;167;01mKeyError\u001b[39;00m \u001b[38;5;28;01mas\u001b[39;00m e:\n\u001b[1;32m--> 237\u001b[0m         \u001b[38;5;28;01mraise\u001b[39;00m \u001b[38;5;167;01mValueError\u001b[39;00m(\u001b[38;5;124mf\u001b[39m\u001b[38;5;124m\"\u001b[39m\u001b[38;5;124my contains previously unseen labels: \u001b[39m\u001b[38;5;132;01m{\u001b[39;00m\u001b[38;5;28mstr\u001b[39m(e)\u001b[38;5;132;01m}\u001b[39;00m\u001b[38;5;124m\"\u001b[39m)\n\u001b[0;32m    238\u001b[0m \u001b[38;5;28;01melse\u001b[39;00m:\n\u001b[0;32m    239\u001b[0m     \u001b[38;5;28;01mif\u001b[39;00m check_unknown:\n",
      "\u001b[1;31mValueError\u001b[0m: y contains previously unseen labels: 'Sanitation Department'"
     ]
    }
   ],
   "source": [
    "# Load the trained model and label encoders\n",
    "model = joblib.load(\"budget_predictor_model.pkl\")\n",
    "label_encoder_department = joblib.load(\"label_encoder_department.pkl\")\n",
    "label_encoder_area = joblib.load(\"label_encoder_area.pkl\")\n",
    "\n",
    "# Example input data: Predict for a new row\n",
    "department = \"\"\n",
    "area = \"Hadapsar\"\n",
    "total_budget = 80649\n",
    "used_budget = 16738\n",
    "\n",
    "# Encode the department and area\n",
    "department_encoded = label_encoder_department.transform([department])[0]\n",
    "area_encoded = label_encoder_area.transform([area])[0]\n",
    "\n",
    "# Create the input feature\n",
    "X_new = pd.DataFrame([[department_encoded, area_encoded, total_budget, used_budget]],\n",
    "                     columns=['department_encoded', 'area_encoded', 'total_budget', 'used_budget'])\n",
    "\n",
    "# Predict the remaining budget\n",
    "predicted_remaining_budget = model.predict(X_new)\n",
    "\n",
    "# Display the predicted remaining budget\n",
    "print(f\"Predicted remaining budget for {department} in {area}: ₹{predicted_remaining_budget[0]:.2f}\")\n"
   ]
  },
  {
   "cell_type": "code",
   "execution_count": 7,
   "id": "407d1930-f8b8-4c54-9915-bbd58fc29a58",
   "metadata": {},
   "outputs": [
    {
     "data": {
      "text/plain": [
       "['models/budget_predictor.pkl']"
      ]
     },
     "execution_count": 7,
     "metadata": {},
     "output_type": "execute_result"
    }
   ],
   "source": [
    "# Example of saving the budget predictor model after training\n",
    "joblib.dump(model, \"models/budget_predictor.pkl\")\n"
   ]
  },
  {
   "cell_type": "code",
   "execution_count": 8,
   "id": "15f26788-fdba-44d6-9632-9ae9dfe9ae5d",
   "metadata": {},
   "outputs": [],
   "source": [
    "import os\n",
    "model_path = os.path.join(\"models\", \"budget_predictor.pkl\")\n"
   ]
  },
  {
   "cell_type": "code",
   "execution_count": 10,
   "id": "9362c6dc-0810-4aee-b331-61a41524683d",
   "metadata": {},
   "outputs": [],
   "source": [
    "import os\n",
    "\n",
    "model_path = os.path.join(\"models\", \"budget_predictor.pkl\")\n",
    "\n",
    "if os.path.exists(model_path):\n",
    "    budget_model = joblib.load(model_path)\n",
    "else:\n",
    "    print(f\"Error: The model file does not exist at {model_path}\")\n"
   ]
  },
  {
   "cell_type": "code",
   "execution_count": 11,
   "id": "c38c5346-e377-4a07-9c55-6ad5cdc274fd",
   "metadata": {},
   "outputs": [
    {
     "name": "stdout",
     "output_type": "stream",
     "text": [
      "Looking for the model at: models\\budget_predictor.pkl\n",
      "Model file found at models\\budget_predictor.pkl\n"
     ]
    }
   ],
   "source": [
    "import os\n",
    "\n",
    "# Define model path\n",
    "model_path = os.path.join(\"models\", \"budget_predictor.pkl\")\n",
    "\n",
    "# Debugging: Print the absolute path\n",
    "print(f\"Looking for the model at: {model_path}\")\n",
    "\n",
    "# Check if the model file exists\n",
    "if os.path.exists(model_path):\n",
    "    print(f\"Model file found at {model_path}\")\n",
    "    budget_model = joblib.load(model_path)\n",
    "else:\n",
    "    print(f\"Error: The model file does not exist at {model_path}\")\n"
   ]
  },
  {
   "cell_type": "code",
   "execution_count": 12,
   "id": "e7a5e020-42c8-46c3-8b1e-644644c5909f",
   "metadata": {},
   "outputs": [
    {
     "name": "stdout",
     "output_type": "stream",
     "text": [
      "Looking for the model at: models\\budget_predictor.pkl\n",
      "Model file found at models\\budget_predictor.pkl\n",
      "Error during prediction: X has 3 features, but LinearRegression is expecting 4 features as input.\n"
     ]
    },
    {
     "name": "stderr",
     "output_type": "stream",
     "text": [
      "C:\\Users\\SAMYAK KHANDERAO\\AppData\\Local\\Programs\\Python\\Python310\\lib\\site-packages\\sklearn\\utils\\validation.py:2739: UserWarning: X does not have valid feature names, but LinearRegression was fitted with feature names\n",
      "  warnings.warn(\n"
     ]
    }
   ],
   "source": [
    "import joblib\n",
    "import os\n",
    "\n",
    "# Define model path\n",
    "model_path = os.path.join(\"models\", \"budget_predictor.pkl\")\n",
    "\n",
    "# Check if the model file exists\n",
    "print(f\"Looking for the model at: {model_path}\")\n",
    "\n",
    "if os.path.exists(model_path):\n",
    "    print(f\"Model file found at {model_path}\")\n",
    "    # Load the model\n",
    "    budget_model = joblib.load(model_path)\n",
    "\n",
    "    # Test the model by using some sample data (replace with actual feature values for your model)\n",
    "    sample_data = [[0, 10000, 8000]]  # Example input with encoded department, allocated budget, and spent budget\n",
    "    try:\n",
    "        prediction = budget_model.predict(sample_data)\n",
    "        print(f\"Prediction for sample data: {prediction}\")\n",
    "    except Exception as e:\n",
    "        print(f\"Error during prediction: {e}\")\n",
    "else:\n",
    "    print(f\"Error: The model file does not exist at {model_path}\")\n"
   ]
  },
  {
   "cell_type": "code",
   "execution_count": 13,
   "id": "ce5c396f-dad6-4b80-b85b-cb7e06beb791",
   "metadata": {},
   "outputs": [
    {
     "name": "stdout",
     "output_type": "stream",
     "text": [
      "Model Coefficients: [ 3.27139676e-13 -8.45989945e-14  1.00000000e+00 -1.00000000e+00]\n",
      "Model Intercept: 7.275957614183426e-12\n"
     ]
    }
   ],
   "source": [
    "# Inspect the model's features\n",
    "print(\"Model Coefficients:\", budget_model.coef_)\n",
    "print(\"Model Intercept:\", budget_model.intercept_)\n"
   ]
  },
  {
   "cell_type": "code",
   "execution_count": 14,
   "id": "0b620485-ec6a-456d-b9d8-d89ffb1cc9c6",
   "metadata": {},
   "outputs": [
    {
     "name": "stdout",
     "output_type": "stream",
     "text": [
      "Looking for the model at: models\\budget_predictor.pkl\n",
      "Model file found at models\\budget_predictor.pkl\n",
      "Predicted remaining budget: ₹7,998.00\n"
     ]
    },
    {
     "name": "stderr",
     "output_type": "stream",
     "text": [
      "C:\\Users\\SAMYAK KHANDERAO\\AppData\\Local\\Programs\\Python\\Python310\\lib\\site-packages\\sklearn\\utils\\validation.py:2739: UserWarning: X does not have valid feature names, but LinearRegression was fitted with feature names\n",
      "  warnings.warn(\n"
     ]
    }
   ],
   "source": [
    "import joblib\n",
    "import os\n",
    "import pandas as pd\n",
    "\n",
    "# Define model path\n",
    "model_path = os.path.join(\"models\", \"budget_predictor.pkl\")\n",
    "\n",
    "# Check if the model file exists\n",
    "print(f\"Looking for the model at: {model_path}\")\n",
    "\n",
    "if os.path.exists(model_path):\n",
    "    print(f\"Model file found at {model_path}\")\n",
    "    # Load the model\n",
    "    budget_model = joblib.load(model_path)\n",
    "    \n",
    "    # Load the label encoder for the 'area' feature (assuming it's label encoded)\n",
    "    area_encoder = joblib.load(os.path.join(\"models\", \"label_encoder_area.pkl\"))\n",
    "    \n",
    "    # Sample input data (make sure to encode the 'area' feature)\n",
    "    department_encoded = 0  # For example, encoded value for 'Municipal Waste Management'\n",
    "    allocated_budget = 10000  # Example budget\n",
    "    spent_budget = 8000  # Example spent budget\n",
    "    area = 'Hadapsar'  # Example area\n",
    "    \n",
    "    # Encode the 'area' feature\n",
    "    area_encoded = area_encoder.transform([area])[0]  # Encoding 'area'\n",
    "    \n",
    "    # Prepare the input data with 4 features\n",
    "    input_data = [[department_encoded, allocated_budget, spent_budget, area_encoded]]\n",
    "    \n",
    "    try:\n",
    "        # Predict using the model\n",
    "        prediction = budget_model.predict(input_data)\n",
    "        print(f\"Predicted remaining budget: ₹{prediction[0]:,.2f}\")\n",
    "    except Exception as e:\n",
    "        print(f\"Error during prediction: {e}\")\n",
    "else:\n",
    "    print(f\"Error: The model file does not exist at {model_path}\")\n"
   ]
  },
  {
   "cell_type": "code",
   "execution_count": 16,
   "id": "c812fea6-f7ac-4c05-bbfe-8c3fd35edfbb",
   "metadata": {},
   "outputs": [
    {
     "name": "stdout",
     "output_type": "stream",
     "text": [
      "Looking for the model at: models\\budget_predictor.pkl\n",
      "Model file found at models\\budget_predictor.pkl\n",
      "Error during prediction: The feature names should match those that were passed during fit.\n",
      "Feature names unseen at fit time:\n",
      "- allocated_budget\n",
      "- area\n",
      "- spent_budget\n",
      "Feature names seen at fit time, yet now missing:\n",
      "- area_encoded\n",
      "- total_budget\n",
      "- used_budget\n",
      "\n"
     ]
    }
   ],
   "source": [
    "import joblib\n",
    "import os\n",
    "import pandas as pd\n",
    "\n",
    "# Define model path\n",
    "model_path = os.path.join(\"models\", \"budget_predictor.pkl\")\n",
    "\n",
    "# Check if the model file exists\n",
    "print(f\"Looking for the model at: {model_path}\")\n",
    "\n",
    "if os.path.exists(model_path):\n",
    "    print(f\"Model file found at {model_path}\")\n",
    "    # Load the model\n",
    "    budget_model = joblib.load(model_path)\n",
    "    \n",
    "    # Load the label encoder for the 'area' feature (assuming it's label encoded)\n",
    "    area_encoder = joblib.load(os.path.join(\"models\", \"label_encoder_area.pkl\"))\n",
    "    \n",
    "    # Sample input data (make sure to encode the 'area' feature)\n",
    "    department_encoded = 0  # For example, encoded value for 'Municipal Waste Management'\n",
    "    allocated_budget = 10000  # Example budget\n",
    "    spent_budget = 8000  # Example spent budget\n",
    "    area = 'Hadapsar'  # Example area\n",
    "    \n",
    "    # Encode the 'area' feature\n",
    "    area_encoded = area_encoder.transform([area])[0]  # Encoding 'area'\n",
    "    \n",
    "    # Prepare the input data with 4 features\n",
    "    input_data = pd.DataFrame([{\n",
    "        \"department_encoded\": department_encoded,\n",
    "        \"allocated_budget\": allocated_budget,\n",
    "        \"spent_budget\": spent_budget,\n",
    "        \"area\": area_encoded\n",
    "    }])\n",
    "    \n",
    "    try:\n",
    "        # Predict using the model\n",
    "        prediction = budget_model.predict(input_data)\n",
    "        print(f\"Predicted remaining budget: ₹{prediction[0]:,.2f}\")\n",
    "    except Exception as e:\n",
    "        print(f\"Error during prediction: {e}\")\n",
    "else:\n",
    "    print(f\"Error: The model file does not exist at {model_path}\")\n"
   ]
  },
  {
   "cell_type": "code",
   "execution_count": 17,
   "id": "5f6c15e4-4202-43bc-9225-5f21aaee8fe4",
   "metadata": {},
   "outputs": [
    {
     "name": "stdout",
     "output_type": "stream",
     "text": [
      "Looking for the model at: models\\budget_predictor.pkl\n",
      "Model file found at models\\budget_predictor.pkl\n",
      "Error during prediction: The feature names should match those that were passed during fit.\n",
      "Feature names must be in the same order as they were in fit.\n",
      "\n"
     ]
    }
   ],
   "source": [
    "import joblib\n",
    "import os\n",
    "import pandas as pd\n",
    "\n",
    "# Define model path\n",
    "model_path = os.path.join(\"models\", \"budget_predictor.pkl\")\n",
    "\n",
    "# Check if the model file exists\n",
    "print(f\"Looking for the model at: {model_path}\")\n",
    "\n",
    "if os.path.exists(model_path):\n",
    "    print(f\"Model file found at {model_path}\")\n",
    "    # Load the model\n",
    "    budget_model = joblib.load(model_path)\n",
    "    \n",
    "    # Load the label encoder for the 'area' feature (assuming it's label encoded)\n",
    "    area_encoder = joblib.load(os.path.join(\"models\", \"label_encoder_area.pkl\"))\n",
    "    \n",
    "    # Sample input data (make sure to encode the 'area' feature)\n",
    "    department_encoded = 0  # For example, encoded value for 'Municipal Waste Management'\n",
    "    allocated_budget = 10000  # Example budget\n",
    "    spent_budget = 8000  # Example spent budget\n",
    "    area = 'Hadapsar'  # Example area\n",
    "    \n",
    "    # Encode the 'area' feature\n",
    "    area_encoded = area_encoder.transform([area])[0]  # Encoding 'area'\n",
    "    \n",
    "    # Create total_budget and used_budget\n",
    "    total_budget = allocated_budget + spent_budget  # Assuming total_budget = allocated_budget + spent_budget\n",
    "    used_budget = spent_budget  # Assuming used_budget = spent_budget\n",
    "    \n",
    "    # Prepare the input data with the correct features\n",
    "    input_data = pd.DataFrame([{\n",
    "        \"department_encoded\": department_encoded,\n",
    "        \"total_budget\": total_budget,\n",
    "        \"used_budget\": used_budget,\n",
    "        \"area_encoded\": area_encoded\n",
    "    }])\n",
    "    \n",
    "    try:\n",
    "        # Predict using the model\n",
    "        prediction = budget_model.predict(input_data)\n",
    "        print(f\"Predicted remaining budget: ₹{prediction[0]:,.2f}\")\n",
    "    except Exception as e:\n",
    "        print(f\"Error during prediction: {e}\")\n",
    "else:\n",
    "    print(f\"Error: The model file does not exist at {model_path}\")\n"
   ]
  },
  {
   "cell_type": "code",
   "execution_count": 19,
   "id": "a600ee36-167b-45b3-8cfe-4c07822d1956",
   "metadata": {},
   "outputs": [
    {
     "name": "stdout",
     "output_type": "stream",
     "text": [
      "Looking for the model at: models\\budget_predictor.pkl\n",
      "Model file found at models\\budget_predictor.pkl\n"
     ]
    },
    {
     "ename": "ValueError",
     "evalue": "y contains previously unseen labels: 'Sanitation'",
     "output_type": "error",
     "traceback": [
      "\u001b[1;31m---------------------------------------------------------------------------\u001b[0m",
      "\u001b[1;31mKeyError\u001b[0m                                  Traceback (most recent call last)",
      "File \u001b[1;32m~\\AppData\\Local\\Programs\\Python\\Python310\\lib\\site-packages\\sklearn\\utils\\_encode.py:235\u001b[0m, in \u001b[0;36m_encode\u001b[1;34m(values, uniques, check_unknown)\u001b[0m\n\u001b[0;32m    234\u001b[0m \u001b[38;5;28;01mtry\u001b[39;00m:\n\u001b[1;32m--> 235\u001b[0m     \u001b[38;5;28;01mreturn\u001b[39;00m \u001b[43m_map_to_integer\u001b[49m\u001b[43m(\u001b[49m\u001b[43mvalues\u001b[49m\u001b[43m,\u001b[49m\u001b[43m \u001b[49m\u001b[43muniques\u001b[49m\u001b[43m)\u001b[49m\n\u001b[0;32m    236\u001b[0m \u001b[38;5;28;01mexcept\u001b[39;00m \u001b[38;5;167;01mKeyError\u001b[39;00m \u001b[38;5;28;01mas\u001b[39;00m e:\n",
      "File \u001b[1;32m~\\AppData\\Local\\Programs\\Python\\Python310\\lib\\site-packages\\sklearn\\utils\\_encode.py:174\u001b[0m, in \u001b[0;36m_map_to_integer\u001b[1;34m(values, uniques)\u001b[0m\n\u001b[0;32m    173\u001b[0m table \u001b[38;5;241m=\u001b[39m _nandict({val: i \u001b[38;5;28;01mfor\u001b[39;00m i, val \u001b[38;5;129;01min\u001b[39;00m \u001b[38;5;28menumerate\u001b[39m(uniques)})\n\u001b[1;32m--> 174\u001b[0m \u001b[38;5;28;01mreturn\u001b[39;00m xp\u001b[38;5;241m.\u001b[39masarray([table[v] \u001b[38;5;28;01mfor\u001b[39;00m v \u001b[38;5;129;01min\u001b[39;00m values], device\u001b[38;5;241m=\u001b[39mdevice(values))\n",
      "File \u001b[1;32m~\\AppData\\Local\\Programs\\Python\\Python310\\lib\\site-packages\\sklearn\\utils\\_encode.py:174\u001b[0m, in \u001b[0;36m<listcomp>\u001b[1;34m(.0)\u001b[0m\n\u001b[0;32m    173\u001b[0m table \u001b[38;5;241m=\u001b[39m _nandict({val: i \u001b[38;5;28;01mfor\u001b[39;00m i, val \u001b[38;5;129;01min\u001b[39;00m \u001b[38;5;28menumerate\u001b[39m(uniques)})\n\u001b[1;32m--> 174\u001b[0m \u001b[38;5;28;01mreturn\u001b[39;00m xp\u001b[38;5;241m.\u001b[39masarray([\u001b[43mtable\u001b[49m\u001b[43m[\u001b[49m\u001b[43mv\u001b[49m\u001b[43m]\u001b[49m \u001b[38;5;28;01mfor\u001b[39;00m v \u001b[38;5;129;01min\u001b[39;00m values], device\u001b[38;5;241m=\u001b[39mdevice(values))\n",
      "File \u001b[1;32m~\\AppData\\Local\\Programs\\Python\\Python310\\lib\\site-packages\\sklearn\\utils\\_encode.py:167\u001b[0m, in \u001b[0;36m_nandict.__missing__\u001b[1;34m(self, key)\u001b[0m\n\u001b[0;32m    166\u001b[0m     \u001b[38;5;28;01mreturn\u001b[39;00m \u001b[38;5;28mself\u001b[39m\u001b[38;5;241m.\u001b[39mnan_value\n\u001b[1;32m--> 167\u001b[0m \u001b[38;5;28;01mraise\u001b[39;00m \u001b[38;5;167;01mKeyError\u001b[39;00m(key)\n",
      "\u001b[1;31mKeyError\u001b[0m: 'Sanitation'",
      "\nDuring handling of the above exception, another exception occurred:\n",
      "\u001b[1;31mValueError\u001b[0m                                Traceback (most recent call last)",
      "Cell \u001b[1;32mIn[19], line 26\u001b[0m\n\u001b[0;32m     23\u001b[0m used_budget \u001b[38;5;241m=\u001b[39m \u001b[38;5;241m2000\u001b[39m\n\u001b[0;32m     25\u001b[0m \u001b[38;5;66;03m# Encode department and area\u001b[39;00m\n\u001b[1;32m---> 26\u001b[0m department_encoded \u001b[38;5;241m=\u001b[39m \u001b[43mdept_encoder\u001b[49m\u001b[38;5;241;43m.\u001b[39;49m\u001b[43mtransform\u001b[49m\u001b[43m(\u001b[49m\u001b[43m[\u001b[49m\u001b[43mdepartment\u001b[49m\u001b[43m]\u001b[49m\u001b[43m)\u001b[49m[\u001b[38;5;241m0\u001b[39m]\n\u001b[0;32m     27\u001b[0m area_encoded \u001b[38;5;241m=\u001b[39m area_encoder\u001b[38;5;241m.\u001b[39mtransform([area])[\u001b[38;5;241m0\u001b[39m]\n\u001b[0;32m     29\u001b[0m \u001b[38;5;66;03m# Create DataFrame with correct column names and order\u001b[39;00m\n",
      "File \u001b[1;32m~\\AppData\\Local\\Programs\\Python\\Python310\\lib\\site-packages\\sklearn\\preprocessing\\_label.py:134\u001b[0m, in \u001b[0;36mLabelEncoder.transform\u001b[1;34m(self, y)\u001b[0m\n\u001b[0;32m    131\u001b[0m \u001b[38;5;28;01mif\u001b[39;00m _num_samples(y) \u001b[38;5;241m==\u001b[39m \u001b[38;5;241m0\u001b[39m:\n\u001b[0;32m    132\u001b[0m     \u001b[38;5;28;01mreturn\u001b[39;00m xp\u001b[38;5;241m.\u001b[39masarray([])\n\u001b[1;32m--> 134\u001b[0m \u001b[38;5;28;01mreturn\u001b[39;00m \u001b[43m_encode\u001b[49m\u001b[43m(\u001b[49m\u001b[43my\u001b[49m\u001b[43m,\u001b[49m\u001b[43m \u001b[49m\u001b[43muniques\u001b[49m\u001b[38;5;241;43m=\u001b[39;49m\u001b[38;5;28;43mself\u001b[39;49m\u001b[38;5;241;43m.\u001b[39;49m\u001b[43mclasses_\u001b[49m\u001b[43m)\u001b[49m\n",
      "File \u001b[1;32m~\\AppData\\Local\\Programs\\Python\\Python310\\lib\\site-packages\\sklearn\\utils\\_encode.py:237\u001b[0m, in \u001b[0;36m_encode\u001b[1;34m(values, uniques, check_unknown)\u001b[0m\n\u001b[0;32m    235\u001b[0m         \u001b[38;5;28;01mreturn\u001b[39;00m _map_to_integer(values, uniques)\n\u001b[0;32m    236\u001b[0m     \u001b[38;5;28;01mexcept\u001b[39;00m \u001b[38;5;167;01mKeyError\u001b[39;00m \u001b[38;5;28;01mas\u001b[39;00m e:\n\u001b[1;32m--> 237\u001b[0m         \u001b[38;5;28;01mraise\u001b[39;00m \u001b[38;5;167;01mValueError\u001b[39;00m(\u001b[38;5;124mf\u001b[39m\u001b[38;5;124m\"\u001b[39m\u001b[38;5;124my contains previously unseen labels: \u001b[39m\u001b[38;5;132;01m{\u001b[39;00m\u001b[38;5;28mstr\u001b[39m(e)\u001b[38;5;132;01m}\u001b[39;00m\u001b[38;5;124m\"\u001b[39m)\n\u001b[0;32m    238\u001b[0m \u001b[38;5;28;01melse\u001b[39;00m:\n\u001b[0;32m    239\u001b[0m     \u001b[38;5;28;01mif\u001b[39;00m check_unknown:\n",
      "\u001b[1;31mValueError\u001b[0m: y contains previously unseen labels: 'Sanitation'"
     ]
    }
   ],
   "source": [
    "import joblib\n",
    "import os\n",
    "import pandas as pd\n",
    "\n",
    "# Model paths\n",
    "model_path = os.path.join(\"models\", \"budget_predictor.pkl\")\n",
    "dept_encoder_path = os.path.join(\"models\", \"label_encoder_department.pkl\")\n",
    "area_encoder_path = os.path.join(\"models\", \"label_encoder_area.pkl\")\n",
    "\n",
    "print(f\"Looking for the model at: {model_path}\")\n",
    "if os.path.exists(model_path):\n",
    "    print(f\"Model file found at {model_path}\")\n",
    "    \n",
    "    # Load the model and encoders\n",
    "    budget_model = joblib.load(model_path)\n",
    "    dept_encoder = joblib.load(dept_encoder_path)\n",
    "    area_encoder = joblib.load(area_encoder_path)\n",
    "    \n",
    "    # Example input values\n",
    "    department = 'Sanitation'\n",
    "    area = 'Hadapsar'\n",
    "    total_budget = 10000\n",
    "    used_budget = 2000\n",
    "\n",
    "    # Encode department and area\n",
    "    department_encoded = dept_encoder.transform([department])[0]\n",
    "    area_encoded = area_encoder.transform([area])[0]\n",
    "\n",
    "    # Create DataFrame with correct column names and order\n",
    "    input_df = pd.DataFrame([[\n",
    "        department_encoded,\n",
    "        area_encoded,\n",
    "        total_budget,\n",
    "        used_budget\n",
    "    ]], columns=[\n",
    "        'department_encoded',\n",
    "        'area_encoded',\n",
    "        'total_budget',\n",
    "        'used_budget'\n",
    "    ])\n",
    "\n",
    "    try:\n",
    "        prediction = budget_model.predict(input_df)\n",
    "        print(f\"Predicted remaining budget: ₹{prediction[0]:,.2f}\")\n",
    "    except Exception as e:\n",
    "        print(f\"Error during prediction: {e}\")\n",
    "else:\n",
    "    print(\"Model file not found.\")\n"
   ]
  },
  {
   "cell_type": "code",
   "execution_count": 20,
   "id": "97ee1100-10b2-4445-8b80-623ba41bd5d7",
   "metadata": {},
   "outputs": [
    {
     "name": "stdout",
     "output_type": "stream",
     "text": [
      "['Sanitation Department']\n"
     ]
    }
   ],
   "source": [
    "print(dept_encoder.classes_)  # Will show all known departments\n"
   ]
  },
  {
   "cell_type": "code",
   "execution_count": 22,
   "id": "985d25d5-1b0d-48a3-ac73-ad9446d32f38",
   "metadata": {},
   "outputs": [
    {
     "name": "stdout",
     "output_type": "stream",
     "text": [
      "✅ Department names updated and saved to 'budget_data.csv'\n"
     ]
    }
   ],
   "source": [
    "import pandas as pd\n",
    "\n",
    "# Load the CSV\n",
    "df = pd.read_csv(\"budget_data.csv\")\n",
    "\n",
    "# Define new department names without issue labels\n",
    "department_mapping = {\n",
    "    \"Sanitation Department\": \"Municipal Waste Management Department\",\n",
    "    \"Water Supply Department\": \"Water Supply and Sanitation Department\",\n",
    "    \"Roads and Transport Department\": \"Traffic and Transportation Department\",\n",
    "    \"Street Lights Maintenance\": \"Urban Lighting and Infrastructure Department\",\n",
    "    \"Drainage Department\": \"Sewerage and Drainage Department\",\n",
    "    \"Health Department\": \"Environmental Protection Department\",\n",
    "    \"Parks and Gardens Department\": \"Urban Forestry and Landscaping Department\",\n",
    "    \"Education and Welfare Department\": \"Animal Control and Welfare Department\",\n",
    "    \"Building and Construction Department\": \"Public Works Department\",\n",
    "    \"Public Safety Department\": \"Electricity Distribution Department\"\n",
    "}\n",
    "\n",
    "# Replace values in 'department' column\n",
    "df[\"department\"] = df[\"department\"].replace(department_mapping)\n",
    "\n",
    "# Save the updated DataFrame\n",
    "df.to_csv(\"updated_budget_data.csv\", index=False)\n",
    "\n",
    "print(\"✅ Department names updated and saved to 'budget_data.csv'\")\n"
   ]
  },
  {
   "cell_type": "code",
   "execution_count": 29,
   "id": "87579c2d-9680-44ee-b2c5-3d31a87233dd",
   "metadata": {},
   "outputs": [
    {
     "name": "stdout",
     "output_type": "stream",
     "text": [
      "Model trained. R^2 score on test data: 1.0000\n"
     ]
    }
   ],
   "source": [
    "import pandas as pd\n",
    "from sklearn.model_selection import train_test_split\n",
    "from sklearn.linear_model import LinearRegression\n",
    "from sklearn.preprocessing import LabelEncoder\n",
    "import joblib\n",
    "\n",
    "# Load data from CSV\n",
    "df = pd.read_csv(\"budget_data.csv\")\n",
    "\n",
    "# Initialize LabelEncoder for department and area\n",
    "label_encoder_department = LabelEncoder()\n",
    "label_encoder_area = LabelEncoder()\n",
    "\n",
    "# Encode department and area columns\n",
    "df['department_encoded'] = label_encoder_department.fit_transform(df['department'])\n",
    "df['area_encoded'] = label_encoder_area.fit_transform(df['area'])\n",
    "\n",
    "# Features (independent variables)\n",
    "X = df[['department_encoded', 'area_encoded', 'total_budget', 'used_budget']]\n",
    "\n",
    "# Target (dependent variable)\n",
    "y = df['remaining_budget']\n",
    "\n",
    "# Split data into training and testing sets\n",
    "X_train, X_test, y_train, y_test = train_test_split(X, y, test_size=0.2, random_state=42)\n",
    "\n",
    "# Train the model\n",
    "model = LinearRegression()\n",
    "model.fit(X_train, y_train)\n",
    "\n",
    "# Save the trained model and label encoders\n",
    "joblib.dump(model, \"budget_predictor_model.pkl\")\n",
    "joblib.dump(label_encoder_department, \"label_encoder_department.pkl\")\n",
    "joblib.dump(label_encoder_area, \"label_encoder_area.pkl\")\n",
    "\n",
    "# Evaluate the model\n",
    "print(f\"Model trained. R^2 score on test data: {model.score(X_test, y_test):.4f}\")\n"
   ]
  },
  {
   "cell_type": "code",
   "execution_count": null,
   "id": "f5878588-64d7-4b65-8517-ebfb968f49db",
   "metadata": {},
   "outputs": [],
   "source": []
  }
 ],
 "metadata": {
  "kernelspec": {
   "display_name": "Python 3.10",
   "language": "python",
   "name": "py310"
  },
  "language_info": {
   "codemirror_mode": {
    "name": "ipython",
    "version": 3
   },
   "file_extension": ".py",
   "mimetype": "text/x-python",
   "name": "python",
   "nbconvert_exporter": "python",
   "pygments_lexer": "ipython3",
   "version": "3.10.11"
  }
 },
 "nbformat": 4,
 "nbformat_minor": 5
}
