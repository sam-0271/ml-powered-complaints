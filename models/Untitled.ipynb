{
 "cells": [
  {
   "cell_type": "code",
   "execution_count": 3,
   "id": "2ffb0a1c-995b-44a0-8ae2-17a0d8f41f3c",
   "metadata": {},
   "outputs": [
    {
     "name": "stdout",
     "output_type": "stream",
     "text": [
      "['Animal Control and Welfare Department'\n",
      " 'Electricity Distribution Department'\n",
      " 'Environmental Protection Department'\n",
      " 'Municipal Waste Management Department' 'Public Works Department'\n",
      " 'Sewerage and Drainage Department'\n",
      " 'Traffic and Transportation Department'\n",
      " 'Urban Forestry and Landscaping Department'\n",
      " 'Urban Lighting and Infrastructure Department'\n",
      " 'Water Supply and Sanitation Department']\n"
     ]
    }
   ],
   "source": [
    "import joblib\n",
    "\n",
    "# Load the LabelEncoder from the .pkl file\n",
    "label_encoder = joblib.load(\"department_label_encoder.pkl\")\n",
    "\n",
    "# Print all department names it was trained on\n",
    "print(label_encoder.classes_)\n",
    "\n"
   ]
  },
  {
   "cell_type": "code",
   "execution_count": 5,
   "id": "130b8992-7801-4efd-ba8d-b5366e40237f",
   "metadata": {},
   "outputs": [
    {
     "name": "stdout",
     "output_type": "stream",
     "text": [
      "['Animal Control and Welfare Department'\n",
      " 'Electricity Distribution Department'\n",
      " 'Environmental Protection Department'\n",
      " 'Municipal Waste Management Department' 'Public Works Department'\n",
      " 'Sewerage and Drainage Department'\n",
      " 'Traffic and Transportation Department'\n",
      " 'Urban Forestry and Landscaping Department'\n",
      " 'Urban Lighting and Infrastructure Department'\n",
      " 'Water Supply and Sanitation Department']\n"
     ]
    }
   ],
   "source": [
    "import joblib\n",
    "\n",
    "budget_label_encoder = joblib.load(\"department_label_encoder.pkl\")\n",
    "print(budget_label_encoder.classes_)\n"
   ]
  },
  {
   "cell_type": "code",
   "execution_count": 7,
   "id": "6186f7c2-e330-43a7-8b76-48e2a40cc7a5",
   "metadata": {},
   "outputs": [
    {
     "name": "stderr",
     "output_type": "stream",
     "text": [
      "2025-04-13 19:50:56.332 WARNING streamlit.runtime.scriptrunner_utils.script_run_context: Thread 'MainThread': missing ScriptRunContext! This warning can be ignored when running in bare mode.\n",
      "2025-04-13 19:50:56.335 WARNING streamlit.runtime.state.session_state_proxy: Session state does not function when running a script without `streamlit run`\n",
      "2025-04-13 19:50:56.336 WARNING streamlit.runtime.scriptrunner_utils.script_run_context: Thread 'MainThread': missing ScriptRunContext! This warning can be ignored when running in bare mode.\n"
     ]
    }
   ],
   "source": [
    "import streamlit as st  # 👈 Add this at the top\n",
    "\n",
    "dept = str(st.session_state.get('department', '')).strip()\n",
    "dept = str(st.session_state.get('department', '')).strip()\n"
   ]
  },
  {
   "cell_type": "code",
   "execution_count": 8,
   "id": "e7f41a71-f02f-409c-aa45-96423a1cfd1c",
   "metadata": {},
   "outputs": [
    {
     "name": "stderr",
     "output_type": "stream",
     "text": [
      "2025-04-13 19:52:01.253 WARNING streamlit.runtime.scriptrunner_utils.script_run_context: Thread 'MainThread': missing ScriptRunContext! This warning can be ignored when running in bare mode.\n"
     ]
    },
    {
     "name": "stdout",
     "output_type": "stream",
     "text": [
      "Department: Electricity Distribution Department\n"
     ]
    }
   ],
   "source": [
    "import streamlit as st\n",
    "\n",
    "try:\n",
    "    dept = st.session_state.get('department', 'Electricity Distribution Department').strip()\n",
    "except RuntimeError:\n",
    "    # You're not in Streamlit's context\n",
    "    dept = 'Electricity Distribution Department'  # test value for standalone run\n",
    "\n",
    "print(\"Department:\", dept)\n"
   ]
  },
  {
   "cell_type": "code",
   "execution_count": null,
   "id": "9ef64d41-7fa9-490a-a3a0-dd62b0f5997f",
   "metadata": {},
   "outputs": [],
   "source": []
  }
 ],
 "metadata": {
  "kernelspec": {
   "display_name": "Python 3.10",
   "language": "python",
   "name": "py310"
  },
  "language_info": {
   "codemirror_mode": {
    "name": "ipython",
    "version": 3
   },
   "file_extension": ".py",
   "mimetype": "text/x-python",
   "name": "python",
   "nbconvert_exporter": "python",
   "pygments_lexer": "ipython3",
   "version": "3.10.11"
  }
 },
 "nbformat": 4,
 "nbformat_minor": 5
}
