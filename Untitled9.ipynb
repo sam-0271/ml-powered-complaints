{
 "cells": [
  {
   "cell_type": "code",
   "execution_count": 1,
   "id": "0b13f619-1299-42ea-807d-c3da196696aa",
   "metadata": {},
   "outputs": [
    {
     "name": "stdout",
     "output_type": "stream",
     "text": [
      "Model trained. R^2 score: nan\n"
     ]
    },
    {
     "name": "stderr",
     "output_type": "stream",
     "text": [
      "C:\\Users\\SAMYAK KHANDERAO\\AppData\\Local\\Programs\\Python\\Python310\\lib\\site-packages\\sklearn\\metrics\\_regression.py:1266: UndefinedMetricWarning: R^2 score is not well-defined with less than two samples.\n",
      "  warnings.warn(msg, UndefinedMetricWarning)\n"
     ]
    }
   ],
   "source": [
    "import pandas as pd\n",
    "from sklearn.model_selection import train_test_split\n",
    "from sklearn.linear_model import LinearRegression\n",
    "from sklearn.preprocessing import LabelEncoder\n",
    "import joblib\n",
    "\n",
    "# Sample Data (CSV)\n",
    "data = {\n",
    "    \"department\": [\"Sanitation Department\", \"Sanitation Department\", \"Sanitation Department\", \"Sanitation Department\", \"Sanitation Department\", \"Sanitation Department\", \"Sanitation Department\"],\n",
    "    \"area\": [\"Hadapsar\", \"Shivajinagar\", \"Kothrud\", \"Aundh\", \"Baner\", \"Kharadi\", \"Wagholi\"],\n",
    "    \"total_budget\": [80649, 87717, 63143, 93297, 99275, 79298, 79075],\n",
    "    \"used_budget\": [16738, 22886, 32444, 42809, 31482, 24672, 25513],\n",
    "    \"remaining_budget\": [63911, 64831, 30699, 50488, 67793, 54626, 53562],\n",
    "    \"garbage_fund\": [20000, None, None, None, None, None, None]  # Only Hadapsar has a garbage fund value in this example\n",
    "}\n",
    "\n",
    "# Create DataFrame\n",
    "df = pd.DataFrame(data)\n",
    "\n",
    "# Initialize LabelEncoder for department and area\n",
    "label_encoder_department = LabelEncoder()\n",
    "label_encoder_area = LabelEncoder()\n",
    "\n",
    "# Encode department and area columns\n",
    "df['department_encoded'] = label_encoder_department.fit_transform(df['department'])\n",
    "df['area_encoded'] = label_encoder_area.fit_transform(df['area'])\n",
    "\n",
    "# Features (independent variables)\n",
    "X = df[['department_encoded', 'area_encoded', 'total_budget', 'used_budget']]\n",
    "\n",
    "# Target (dependent variable)\n",
    "y = df['garbage_fund']\n",
    "\n",
    "# Filter out rows where garbage_fund is NaN (so we only train on available data)\n",
    "X_train = X[~y.isna()]\n",
    "y_train = y.dropna()\n",
    "\n",
    "# Train the model\n",
    "model = LinearRegression()\n",
    "model.fit(X_train, y_train)\n",
    "\n",
    "# Save the trained model and label encoders\n",
    "joblib.dump(model, \"garbage_fund_predictor_model.pkl\")\n",
    "joblib.dump(label_encoder_department, \"label_encoder_department.pkl\")\n",
    "joblib.dump(label_encoder_area, \"label_encoder_area.pkl\")\n",
    "\n",
    "# Evaluate the model\n",
    "print(f\"Model trained. R^2 score: {model.score(X_train, y_train)}\")\n"
   ]
  },
  {
   "cell_type": "code",
   "execution_count": null,
   "id": "5cea50d2-0ae6-4697-8a86-f8601e7ffbb2",
   "metadata": {},
   "outputs": [],
   "source": []
  }
 ],
 "metadata": {
  "kernelspec": {
   "display_name": "Python 3.10",
   "language": "python",
   "name": "py310"
  },
  "language_info": {
   "codemirror_mode": {
    "name": "ipython",
    "version": 3
   },
   "file_extension": ".py",
   "mimetype": "text/x-python",
   "name": "python",
   "nbconvert_exporter": "python",
   "pygments_lexer": "ipython3",
   "version": "3.10.11"
  }
 },
 "nbformat": 4,
 "nbformat_minor": 5
}
