{
 "cells": [
  {
   "cell_type": "code",
   "execution_count": 3,
   "id": "8ec0a4fb-6315-42b1-b39c-fd9a43796c6c",
   "metadata": {},
   "outputs": [
    {
     "name": "stdout",
     "output_type": "stream",
     "text": [
      "Model trained and saved successfully.\n"
     ]
    }
   ],
   "source": [
    "import pandas as pd\n",
    "import joblib\n",
    "from sklearn.ensemble import RandomForestRegressor\n",
    "from sklearn.model_selection import train_test_split\n",
    "from sklearn.preprocessing import OneHotEncoder\n",
    "from sklearn.compose import ColumnTransformer\n",
    "from sklearn.pipeline import Pipeline\n",
    "\n",
    "# Load dataset\n",
    "df = pd.read_csv(\"final_complaints.csv\")\n",
    "\n",
    "# Select features and target\n",
    "X = df[[\"department\", \"predicted_priority\", \"type\"]]\n",
    "y = df[\"predicted_cost\"]\n",
    "\n",
    "# One-hot encoding for categorical features\n",
    "categorical_features = [\"department\", \"predicted_priority\", \"type\"]\n",
    "preprocessor = ColumnTransformer(\n",
    "    transformers=[\n",
    "        (\"cat\", OneHotEncoder(handle_unknown=\"ignore\"), categorical_features)\n",
    "    ]\n",
    ")\n",
    "\n",
    "# Model pipeline\n",
    "model = Pipeline(steps=[\n",
    "    (\"preprocessor\", preprocessor),\n",
    "    (\"regressor\", RandomForestRegressor(n_estimators=200, random_state=42))\n",
    "])\n",
    "\n",
    "# Train-test split\n",
    "X_train, X_test, y_train, y_test = train_test_split(X, y, test_size=0.2, random_state=42)\n",
    "\n",
    "# Fit the model\n",
    "model.fit(X_train, y_train)\n",
    "\n",
    "# Save the model and feature info\n",
    "joblib.dump(model, \"models/cost_predictor_model.pkl\")\n",
    "print(\"Model trained and saved successfully.\")\n"
   ]
  },
  {
   "cell_type": "code",
   "execution_count": 5,
   "id": "b48e19f7-d98b-48f8-802b-49c2afe0f454",
   "metadata": {},
   "outputs": [
    {
     "name": "stdout",
     "output_type": "stream",
     "text": [
      "Estimated Resolution Cost: ₹3721.07\n"
     ]
    }
   ],
   "source": [
    "# Load model\n",
    "import joblib\n",
    "import pandas as pd\n",
    "\n",
    "model = joblib.load(\"models/cost_predictor_model.pkl\")\n",
    "\n",
    "# Create input for prediction\n",
    "input_data = pd.DataFrame([{\n",
    "    \"department\": \"Municipal Waste Management Department\",\n",
    "    \"predicted_priority\": \"High\",\n",
    "    \"type\": \"Garbage Issue\"\n",
    "}])\n",
    "\n",
    "# Predict cost\n",
    "predicted_cost = model.predict(input_data)[0]\n",
    "print(f\"Estimated Resolution Cost: ₹{predicted_cost:.2f}\")\n"
   ]
  },
  {
   "cell_type": "code",
   "execution_count": 8,
   "id": "b3f8a55b-85f8-41c0-8127-ac63b5ebb926",
   "metadata": {},
   "outputs": [
    {
     "name": "stdout",
     "output_type": "stream",
     "text": [
      "                                     department predicted_priority  \\\n",
      "0         Municipal Waste Management Department             Medium   \n",
      "1           Electricity Distribution Department               High   \n",
      "2         Traffic and Transportation Department             Medium   \n",
      "3         Municipal Waste Management Department             Medium   \n",
      "4     Urban Forestry and Landscaping Department               High   \n",
      "5         Traffic and Transportation Department             Medium   \n",
      "6                       Public Works Department               High   \n",
      "7         Animal Control and Welfare Department                Low   \n",
      "8  Urban Lighting and Infrastructure Department             Medium   \n",
      "9  Urban Lighting and Infrastructure Department             Medium   \n",
      "\n",
      "                type  Estimated Resolution Cost (₹)  \n",
      "0      Garbage Issue                        3632.43  \n",
      "1  Electricity Issue                        4025.93  \n",
      "2    Illegal Parking                        3442.20  \n",
      "3      Garbage Issue                        3632.43  \n",
      "4       Tree Falling                        3569.30  \n",
      "5    Illegal Parking                        3442.20  \n",
      "6        Road Damage                        3820.84  \n",
      "7    Animal Nuisance                        3596.92  \n",
      "8  Streetlight Issue                        3841.42  \n",
      "9  Streetlight Issue                        3841.42  \n"
     ]
    }
   ],
   "source": [
    "import pandas as pd\n",
    "import joblib\n",
    "\n",
    "# Load the trained model\n",
    "model = joblib.load(\"models/cost_predictor_model.pkl\")\n",
    "\n",
    "# Load the original data\n",
    "df = pd.read_csv(\"final_complaints.csv\")\n",
    "\n",
    "# Select only the input features\n",
    "X_sample = df[[\"department\", \"predicted_priority\", \"type\"]].head(10)\n",
    "\n",
    "# Predict cost\n",
    "predicted_costs = model.predict(X_sample)\n",
    "\n",
    "# Combine input with predictions\n",
    "results = X_sample.copy()\n",
    "results[\"Estimated Resolution Cost (₹)\"] = predicted_costs.round(2)\n",
    "\n",
    "# Display\n",
    "print(results)\n"
   ]
  },
  {
   "cell_type": "code",
   "execution_count": null,
   "id": "56647329-21c0-4537-894c-25f1856ef3d8",
   "metadata": {},
   "outputs": [],
   "source": []
  }
 ],
 "metadata": {
  "kernelspec": {
   "display_name": "Python 3.10",
   "language": "python",
   "name": "py310"
  },
  "language_info": {
   "codemirror_mode": {
    "name": "ipython",
    "version": 3
   },
   "file_extension": ".py",
   "mimetype": "text/x-python",
   "name": "python",
   "nbconvert_exporter": "python",
   "pygments_lexer": "ipython3",
   "version": "3.10.11"
  }
 },
 "nbformat": 4,
 "nbformat_minor": 5
}
